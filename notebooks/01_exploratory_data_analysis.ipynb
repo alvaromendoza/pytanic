{
 "cells": [
  {
   "cell_type": "markdown",
   "metadata": {},
   "source": [
    "# Exploratory data analysis of Titanic dataset"
   ]
  },
  {
   "cell_type": "markdown",
   "metadata": {},
   "source": [
    "## IPython magics"
   ]
  },
  {
   "cell_type": "code",
   "execution_count": null,
   "metadata": {
    "ExecuteTime": {
     "end_time": "2019-01-08T08:34:01.143749Z",
     "start_time": "2019-01-08T08:34:01.132756Z"
    }
   },
   "outputs": [],
   "source": [
    "%matplotlib inline"
   ]
  },
  {
   "cell_type": "markdown",
   "metadata": {},
   "source": [
    "## Imports"
   ]
  },
  {
   "cell_type": "code",
   "execution_count": null,
   "metadata": {
    "ExecuteTime": {
     "end_time": "2019-01-08T08:34:01.256679Z",
     "start_time": "2019-01-08T08:34:01.149744Z"
    }
   },
   "outputs": [],
   "source": [
    "import importlib\n",
    "import os\n",
    "import time\n",
    "import re\n",
    "import warnings\n",
    "import numpy as np\n",
    "import pandas as pd\n",
    "import statsmodels.api as sm\n",
    "import statsmodels.tsa.api as smt\n",
    "import scipy.stats as stats\n",
    "import matplotlib.pyplot as plt\n",
    "import matplotlib.ticker as ticker\n",
    "import seaborn as sns; sns.set()\n",
    "import titanic.analysis as an\n",
    "\n",
    "pd.options.display.max_columns = None\n",
    "pd.options.display.max_rows = None\n",
    "pd.options.display.max_colwidth = -1\n",
    "\n",
    "plt.rcParams['figure.figsize'] = [15, 4.5]\n",
    "\n",
    "importlib.reload(an);"
   ]
  },
  {
   "cell_type": "markdown",
   "metadata": {},
   "source": [
    "## Load data"
   ]
  },
  {
   "cell_type": "code",
   "execution_count": null,
   "metadata": {
    "ExecuteTime": {
     "end_time": "2019-01-08T08:34:01.374606Z",
     "start_time": "2019-01-08T08:34:01.262675Z"
    }
   },
   "outputs": [],
   "source": [
    "train = pd.read_csv('../data/raw/train.csv')\n",
    "train.head(15)"
   ]
  },
  {
   "cell_type": "code",
   "execution_count": null,
   "metadata": {
    "ExecuteTime": {
     "end_time": "2019-01-08T08:34:01.426574Z",
     "start_time": "2019-01-08T08:34:01.379605Z"
    }
   },
   "outputs": [],
   "source": [
    "train.info()\n",
    "print('train.shape:', train.shape)"
   ]
  },
  {
   "cell_type": "code",
   "execution_count": null,
   "metadata": {
    "ExecuteTime": {
     "end_time": "2019-01-08T08:34:01.523514Z",
     "start_time": "2019-01-08T08:34:01.432570Z"
    }
   },
   "outputs": [],
   "source": [
    "test = pd.read_csv('../data/raw/test.csv')\n",
    "test.head()"
   ]
  },
  {
   "cell_type": "code",
   "execution_count": null,
   "metadata": {
    "ExecuteTime": {
     "end_time": "2019-01-08T08:34:01.604465Z",
     "start_time": "2019-01-08T08:34:01.530510Z"
    }
   },
   "outputs": [],
   "source": [
    "data_dict = pd.read_excel('../references/data_dict.xlsx')\n",
    "data_dict"
   ]
  },
  {
   "cell_type": "markdown",
   "metadata": {},
   "source": [
    "## Missing values"
   ]
  },
  {
   "cell_type": "code",
   "execution_count": null,
   "metadata": {
    "ExecuteTime": {
     "end_time": "2019-01-08T08:34:01.677419Z",
     "start_time": "2019-01-08T08:34:01.611462Z"
    }
   },
   "outputs": [],
   "source": [
    "an.get_nan_counts(train)"
   ]
  },
  {
   "cell_type": "code",
   "execution_count": null,
   "metadata": {
    "ExecuteTime": {
     "end_time": "2019-01-08T08:34:01.757370Z",
     "start_time": "2019-01-08T08:34:01.683416Z"
    }
   },
   "outputs": [],
   "source": [
    "an.get_nan_counts(test)"
   ]
  },
  {
   "cell_type": "markdown",
   "metadata": {},
   "source": [
    "## Survived"
   ]
  },
  {
   "cell_type": "code",
   "execution_count": null,
   "metadata": {
    "ExecuteTime": {
     "end_time": "2019-01-08T08:34:01.831325Z",
     "start_time": "2019-01-08T08:34:01.763367Z"
    }
   },
   "outputs": [],
   "source": [
    "an.get_count_percentage(train, 'Survived', sort='count')"
   ]
  },
  {
   "cell_type": "code",
   "execution_count": null,
   "metadata": {
    "ExecuteTime": {
     "end_time": "2019-01-08T08:34:02.059174Z",
     "start_time": "2019-01-08T08:34:01.835322Z"
    }
   },
   "outputs": [],
   "source": [
    "sns.countplot(y='Survived', data=train)\n",
    "plt.gcf().suptitle('Survival count', fontsize=15);"
   ]
  },
  {
   "cell_type": "markdown",
   "metadata": {},
   "source": [
    "## Pclass"
   ]
  },
  {
   "cell_type": "code",
   "execution_count": null,
   "metadata": {
    "ExecuteTime": {
     "end_time": "2019-01-08T08:34:02.080162Z",
     "start_time": "2019-01-08T08:34:02.063169Z"
    }
   },
   "outputs": [],
   "source": [
    "an.get_count_percentage(train, 'Pclass')"
   ]
  },
  {
   "cell_type": "code",
   "execution_count": null,
   "metadata": {
    "ExecuteTime": {
     "end_time": "2019-01-08T08:34:02.322009Z",
     "start_time": "2019-01-08T08:34:02.085155Z"
    }
   },
   "outputs": [],
   "source": [
    "sns.countplot(y='Pclass', data=train)\n",
    "plt.gca().set_title('Pclass count', fontsize=15);"
   ]
  },
  {
   "cell_type": "code",
   "execution_count": null,
   "metadata": {
    "ExecuteTime": {
     "end_time": "2019-01-08T08:34:02.659803Z",
     "start_time": "2019-01-08T08:34:02.326007Z"
    }
   },
   "outputs": [],
   "source": [
    "g = sns.catplot(x=\"Pclass\", y=\"Survived\", data=train, kind=\"bar\", palette=\"deep\", \n",
    "                height=4.5, aspect=2.5, orient='v')\n",
    "g.fig.suptitle('Survival rate vs Pclass', fontsize=15)\n",
    "g.set_ylabels(\"Survival rate\")\n",
    "g.fig.subplots_adjust(top=.9)\n",
    "ax = plt.gca()\n",
    "for p in ax.patches:\n",
    "    ax.text(p.get_x() + p.get_width()/2., p.get_height()/2.2, '{:0.1f}%'.format(p.get_height() * 100), \n",
    "            fontsize=13, ha='center', va='bottom')"
   ]
  },
  {
   "cell_type": "code",
   "execution_count": null,
   "metadata": {
    "ExecuteTime": {
     "end_time": "2019-01-08T08:34:03.189624Z",
     "start_time": "2019-01-08T08:34:02.665797Z"
    }
   },
   "outputs": [],
   "source": [
    "g = sns.catplot(x=\"Pclass\", y=\"Survived\", hue='Sex', data=train, kind=\"bar\", palette=\"deep\", \n",
    "                height=4.5, aspect=2.5)\n",
    "g.fig.suptitle('Survival rate vs Pclass vs Sex', fontsize=15)\n",
    "g.set_ylabels(\"Survival rate\")\n",
    "g.fig.subplots_adjust(top=.9)\n",
    "ax = plt.gca()\n",
    "for p in ax.patches:\n",
    "    ax.text(p.get_x() + p.get_width()/2., p.get_height()/2.2, '{:0.1f}%'.format(p.get_height() * 100), \n",
    "            fontsize=13, ha='center', va='bottom')"
   ]
  },
  {
   "cell_type": "markdown",
   "metadata": {},
   "source": [
    "## Title"
   ]
  },
  {
   "cell_type": "code",
   "execution_count": null,
   "metadata": {
    "ExecuteTime": {
     "end_time": "2019-01-08T08:34:03.224601Z",
     "start_time": "2019-01-08T08:34:03.194620Z"
    }
   },
   "outputs": [],
   "source": [
    "train['Title'] = train['Name'].str.extract(' ([A-Za-z]+)\\.', expand=False)\n",
    "pd.crosstab(train['Title'], train['Sex'])"
   ]
  },
  {
   "cell_type": "code",
   "execution_count": null,
   "metadata": {
    "ExecuteTime": {
     "end_time": "2019-01-08T08:34:03.332575Z",
     "start_time": "2019-01-08T08:34:03.233595Z"
    }
   },
   "outputs": [],
   "source": [
    "train['Title'].replace('Mlle', 'Miss', inplace=True)\n",
    "train['Title'].replace('Ms', 'Miss', inplace=True)\n",
    "train['Title'].replace('Mme', 'Mrs', inplace=True)\n",
    "pd.crosstab(train['Title'], train['Sex'])"
   ]
  },
  {
   "cell_type": "code",
   "execution_count": null,
   "metadata": {
    "ExecuteTime": {
     "end_time": "2019-01-08T08:34:03.427517Z",
     "start_time": "2019-01-08T08:34:03.337572Z"
    }
   },
   "outputs": [],
   "source": [
    "title_other_filter = ~train['Title'].isin(['Mr', 'Master', 'Mrs', 'Miss'])\n",
    "train.loc[title_other_filter, 'Title'] = 'Other'\n",
    "pd.crosstab(train['Title'], train['Sex'])"
   ]
  },
  {
   "cell_type": "code",
   "execution_count": null,
   "metadata": {
    "ExecuteTime": {
     "end_time": "2019-01-08T08:34:03.879240Z",
     "start_time": "2019-01-08T08:34:03.433512Z"
    }
   },
   "outputs": [],
   "source": [
    "g = sns.catplot(x=\"Title\", y=\"Survived\", data=train, kind=\"bar\", palette=\"deep\", \n",
    "                height=4.5, aspect=2.5, orient='v')\n",
    "g.fig.suptitle('Survival rate vs Title', fontsize=15)\n",
    "g.set_ylabels(\"Survival rate\")\n",
    "g.fig.subplots_adjust(top=.9)\n",
    "ax = plt.gca()\n",
    "for p in ax.patches:\n",
    "    ax.text(p.get_x() + p.get_width()/2., p.get_height()/2.2, '{:0.1f}%'.format(p.get_height() * 100), \n",
    "            fontsize=13, ha='center', va='bottom')"
   ]
  },
  {
   "cell_type": "markdown",
   "metadata": {},
   "source": [
    "## Sex"
   ]
  },
  {
   "cell_type": "code",
   "execution_count": null,
   "metadata": {
    "ExecuteTime": {
     "end_time": "2019-01-08T08:34:03.906221Z",
     "start_time": "2019-01-08T08:34:03.886233Z"
    }
   },
   "outputs": [],
   "source": [
    "an.get_count_percentage(train, 'Sex')"
   ]
  },
  {
   "cell_type": "code",
   "execution_count": null,
   "metadata": {
    "ExecuteTime": {
     "end_time": "2019-01-08T08:34:04.154070Z",
     "start_time": "2019-01-08T08:34:03.913218Z"
    }
   },
   "outputs": [],
   "source": [
    "sns.countplot(y='Sex', data=train)\n",
    "plt.gca().set_title('Sex count', fontsize=15);"
   ]
  },
  {
   "cell_type": "code",
   "execution_count": null,
   "metadata": {
    "ExecuteTime": {
     "end_time": "2019-01-08T08:34:04.469874Z",
     "start_time": "2019-01-08T08:34:04.159066Z"
    }
   },
   "outputs": [],
   "source": [
    "g = sns.catplot(x=\"Sex\", y=\"Survived\", data=train, kind=\"bar\", palette=\"deep\", \n",
    "                height=4.5, aspect=2.5, orient='v')\n",
    "g.fig.suptitle('Survival rate vs Sex', fontsize=15)\n",
    "g.set_ylabels(\"Survival rate\")\n",
    "g.fig.subplots_adjust(top=.9)\n",
    "ax = plt.gca()\n",
    "for p in ax.patches:\n",
    "    ax.text(p.get_x() + p.get_width()/2., p.get_height()/2.2, '{:0.1f}%'.format(p.get_height() * 100), \n",
    "            fontsize=13, ha='center', va='bottom')"
   ]
  },
  {
   "cell_type": "markdown",
   "metadata": {},
   "source": [
    "## SibSp"
   ]
  },
  {
   "cell_type": "code",
   "execution_count": null,
   "metadata": {
    "ExecuteTime": {
     "end_time": "2019-01-08T08:34:04.492860Z",
     "start_time": "2019-01-08T08:34:04.474873Z"
    }
   },
   "outputs": [],
   "source": [
    "an.get_count_percentage(train, 'SibSp')"
   ]
  },
  {
   "cell_type": "code",
   "execution_count": null,
   "metadata": {
    "ExecuteTime": {
     "end_time": "2019-01-08T08:34:04.727715Z",
     "start_time": "2019-01-08T08:34:04.497857Z"
    }
   },
   "outputs": [],
   "source": [
    "sns.countplot(y='SibSp', data=train)\n",
    "plt.gca().set_title('SibSp count', fontsize=15);"
   ]
  },
  {
   "cell_type": "code",
   "execution_count": null,
   "metadata": {
    "ExecuteTime": {
     "end_time": "2019-01-08T08:34:05.213655Z",
     "start_time": "2019-01-08T08:34:04.732713Z"
    },
    "run_control": {
     "marked": false
    }
   },
   "outputs": [],
   "source": [
    "g = sns.catplot(x=\"SibSp\", y=\"Survived\", data=train, kind=\"bar\", palette=\"deep\", \n",
    "                height=4.5, aspect=2.5, orient='v')\n",
    "g.fig.suptitle('Survival rate vs SibSp', fontsize=15)\n",
    "g.set_ylabels(\"Survival rate\")\n",
    "g.fig.subplots_adjust(top=.9)\n",
    "ax = plt.gca()\n",
    "for p in ax.patches:\n",
    "    ax.text(p.get_x() + p.get_width()/2., p.get_height()/2.2, '{:0.1f}%'.format(p.get_height() * 100), \n",
    "            fontsize=13, ha='center', va='bottom')"
   ]
  },
  {
   "cell_type": "markdown",
   "metadata": {},
   "source": [
    "## Parch"
   ]
  },
  {
   "cell_type": "code",
   "execution_count": null,
   "metadata": {
    "ExecuteTime": {
     "end_time": "2019-01-08T08:34:05.239637Z",
     "start_time": "2019-01-08T08:34:05.219649Z"
    }
   },
   "outputs": [],
   "source": [
    "an.get_count_percentage(train, 'Parch')"
   ]
  },
  {
   "cell_type": "code",
   "execution_count": null,
   "metadata": {
    "ExecuteTime": {
     "end_time": "2019-01-08T08:34:05.649347Z",
     "start_time": "2019-01-08T08:34:05.245633Z"
    }
   },
   "outputs": [],
   "source": [
    "sns.countplot(y='Parch', hue='Sex', data=train)\n",
    "plt.gca().set_title('Parch count', fontsize=15);"
   ]
  },
  {
   "cell_type": "code",
   "execution_count": null,
   "metadata": {
    "ExecuteTime": {
     "end_time": "2019-01-08T08:34:06.097072Z",
     "start_time": "2019-01-08T08:34:05.654343Z"
    }
   },
   "outputs": [],
   "source": [
    "g = sns.catplot(x=\"Parch\", y=\"Survived\", data=train, kind=\"bar\", palette=\"deep\", \n",
    "                height=4.5, aspect=2.5, orient='v')\n",
    "g.fig.suptitle('Survival rate vs Parch', fontsize=15)\n",
    "g.set_ylabels(\"Survival rate\")\n",
    "g.fig.subplots_adjust(top=.9)\n",
    "ax = plt.gca()\n",
    "for p in ax.patches:\n",
    "    ax.text(p.get_x() + p.get_width()/2., p.get_height()/2.2, '{:0.1f}%'.format(p.get_height() * 100), \n",
    "            fontsize=13, ha='center', va='bottom')"
   ]
  },
  {
   "cell_type": "markdown",
   "metadata": {},
   "source": [
    "## FamilySize"
   ]
  },
  {
   "cell_type": "code",
   "execution_count": null,
   "metadata": {
    "ExecuteTime": {
     "end_time": "2019-01-08T08:34:06.123054Z",
     "start_time": "2019-01-08T08:34:06.103067Z"
    }
   },
   "outputs": [],
   "source": [
    "train['FamilySize'] = train['SibSp'] + train['Parch'] + 1\n",
    "an.get_count_percentage(train, 'FamilySize')"
   ]
  },
  {
   "cell_type": "code",
   "execution_count": null,
   "metadata": {
    "ExecuteTime": {
     "end_time": "2019-01-08T08:34:06.726103Z",
     "start_time": "2019-01-08T08:34:06.129050Z"
    }
   },
   "outputs": [],
   "source": [
    "g = sns.catplot(x=\"FamilySize\", y=\"Survived\", data=train, kind=\"bar\", palette=\"deep\", \n",
    "                height=4.5, aspect=2.5, orient='v')\n",
    "g.fig.suptitle('Survival rate vs FamilySize', fontsize=15)\n",
    "g.set_ylabels(\"Survival rate\")\n",
    "g.fig.subplots_adjust(top=.9)\n",
    "ax = plt.gca()\n",
    "for p in ax.patches:\n",
    "    ax.text(p.get_x() + p.get_width()/2., p.get_height()/2.2, '{:0.1f}%'.format(p.get_height() * 100), \n",
    "            fontsize=13, ha='center', va='bottom')"
   ]
  },
  {
   "cell_type": "markdown",
   "metadata": {},
   "source": [
    "## Embarked"
   ]
  },
  {
   "cell_type": "code",
   "execution_count": null,
   "metadata": {
    "ExecuteTime": {
     "end_time": "2019-01-08T08:34:06.751555Z",
     "start_time": "2019-01-08T08:34:06.732567Z"
    }
   },
   "outputs": [],
   "source": [
    "an.get_count_percentage(train, 'Embarked')"
   ]
  },
  {
   "cell_type": "code",
   "execution_count": null,
   "metadata": {
    "ExecuteTime": {
     "end_time": "2019-01-08T08:34:07.028384Z",
     "start_time": "2019-01-08T08:34:06.756549Z"
    }
   },
   "outputs": [],
   "source": [
    "sns.countplot(y='Embarked', hue='Sex', data=train)\n",
    "plt.gca().set_title('Embarked count vs Sex', fontsize=15);"
   ]
  },
  {
   "cell_type": "code",
   "execution_count": null,
   "metadata": {
    "ExecuteTime": {
     "end_time": "2019-01-08T08:34:07.291222Z",
     "start_time": "2019-01-08T08:34:07.035378Z"
    }
   },
   "outputs": [],
   "source": [
    "sns.countplot(y='Embarked', hue='Pclass', data=train)\n",
    "plt.gca().set_title('Embarked count vs Pclass', fontsize=15);"
   ]
  },
  {
   "cell_type": "code",
   "execution_count": null,
   "metadata": {
    "ExecuteTime": {
     "end_time": "2019-01-08T08:34:07.826029Z",
     "start_time": "2019-01-08T08:34:07.296219Z"
    }
   },
   "outputs": [],
   "source": [
    "g = sns.catplot(x=\"Embarked\", y=\"Survived\", hue='Sex', data=train, kind=\"bar\", palette=\"deep\", \n",
    "                height=4.5, aspect=2.5, orient='v')\n",
    "g.fig.suptitle('Survival rate vs Embarked vs Sex', fontsize=15)\n",
    "g.set_ylabels(\"Survival rate\")\n",
    "g.fig.subplots_adjust(top=.9)\n",
    "ax = plt.gca()\n",
    "for p in ax.patches:\n",
    "    ax.text(p.get_x() + p.get_width()/2., p.get_height()/2.2, '{:0.1f}%'.format(p.get_height() * 100), \n",
    "            fontsize=13, ha='center', va='bottom')"
   ]
  },
  {
   "cell_type": "code",
   "execution_count": null,
   "metadata": {
    "ExecuteTime": {
     "end_time": "2019-01-08T08:34:09.144797Z",
     "start_time": "2019-01-08T08:34:07.832110Z"
    }
   },
   "outputs": [],
   "source": [
    "g = sns.FacetGrid(train, row='Embarked', col='Pclass', height=2.2, aspect=1.9)\n",
    "g.map(sns.barplot, 'Sex', 'Survived', alpha=0.8, order=['female', 'male'])\n",
    "g.fig.subplots_adjust(top=.9)\n",
    "plt.gcf().suptitle('Survival rate vs Sex vs Embarked vs Pclass', fontsize=15);"
   ]
  },
  {
   "cell_type": "markdown",
   "metadata": {},
   "source": [
    "## Deck"
   ]
  },
  {
   "cell_type": "code",
   "execution_count": null,
   "metadata": {
    "ExecuteTime": {
     "end_time": "2019-01-08T08:34:09.171780Z",
     "start_time": "2019-01-08T08:34:09.150792Z"
    },
    "scrolled": false
   },
   "outputs": [],
   "source": [
    "has_cabin = train.loc[~train['Cabin'].isnull(), :]\n",
    "has_cabin.head()"
   ]
  },
  {
   "cell_type": "code",
   "execution_count": null,
   "metadata": {
    "ExecuteTime": {
     "end_time": "2019-01-08T08:34:09.289690Z",
     "start_time": "2019-01-08T08:34:09.178775Z"
    },
    "scrolled": false
   },
   "outputs": [],
   "source": [
    "an.get_count_percentage(has_cabin, 'Pclass')"
   ]
  },
  {
   "cell_type": "code",
   "execution_count": null,
   "metadata": {
    "ExecuteTime": {
     "end_time": "2019-01-08T08:34:09.399642Z",
     "start_time": "2019-01-08T08:34:09.295685Z"
    }
   },
   "outputs": [],
   "source": [
    "an.get_count_percentage(has_cabin, 'Sex')"
   ]
  },
  {
   "cell_type": "code",
   "execution_count": null,
   "metadata": {
    "ExecuteTime": {
     "end_time": "2019-01-08T08:34:09.484591Z",
     "start_time": "2019-01-08T08:34:09.405639Z"
    }
   },
   "outputs": [],
   "source": [
    "deck = train['Cabin'].apply(lambda x: ''.join(re.findall(\"[a-zA-Z]+\", str(x))))\n",
    "deck.value_counts()"
   ]
  },
  {
   "cell_type": "code",
   "execution_count": null,
   "metadata": {
    "ExecuteTime": {
     "end_time": "2019-01-08T08:34:09.572566Z",
     "start_time": "2019-01-08T08:34:09.490589Z"
    }
   },
   "outputs": [],
   "source": [
    "train['Deck'] = train['Cabin'].str.extract(r'([A-Z])+', expand=False)\n",
    "train['Deck'].fillna('X', inplace=True)\n",
    "train['Deck'].value_counts()"
   ]
  },
  {
   "cell_type": "code",
   "execution_count": null,
   "metadata": {
    "ExecuteTime": {
     "end_time": "2019-01-08T08:34:09.833407Z",
     "start_time": "2019-01-08T08:34:09.577563Z"
    }
   },
   "outputs": [],
   "source": [
    "sns.countplot(x='Deck', data=train)\n",
    "plt.gca().set_title('Deck count', fontsize=15);"
   ]
  },
  {
   "cell_type": "code",
   "execution_count": null,
   "metadata": {
    "ExecuteTime": {
     "end_time": "2019-01-08T08:34:10.368418Z",
     "start_time": "2019-01-08T08:34:09.839402Z"
    }
   },
   "outputs": [],
   "source": [
    "g = sns.catplot(x=\"Deck\", y=\"Survived\", data=train, kind=\"bar\", palette=\"deep\", \n",
    "                height=4.5, aspect=2.5, orient='v')\n",
    "g.fig.suptitle('Survival rate vs Deck', fontsize=15)\n",
    "g.set_ylabels(\"Survival rate\")\n",
    "g.fig.subplots_adjust(top=.9)\n",
    "ax = plt.gca()\n",
    "for p in ax.patches:\n",
    "    ax.text(p.get_x() + p.get_width()/2., p.get_height()/2.2, '{:0.1f}%'.format(p.get_height() * 100), \n",
    "            fontsize=13, ha='center', va='bottom')"
   ]
  },
  {
   "cell_type": "markdown",
   "metadata": {},
   "source": [
    "## Age"
   ]
  },
  {
   "cell_type": "code",
   "execution_count": null,
   "metadata": {
    "ExecuteTime": {
     "end_time": "2019-01-08T08:34:10.680229Z",
     "start_time": "2019-01-08T08:34:10.375417Z"
    }
   },
   "outputs": [],
   "source": [
    "sns.distplot(train['Age'][~train['Age'].isnull()])\n",
    "plt.gca().set_title('Distplot of Age', fontsize=15);"
   ]
  },
  {
   "cell_type": "code",
   "execution_count": null,
   "metadata": {
    "ExecuteTime": {
     "end_time": "2019-01-08T08:34:11.082983Z",
     "start_time": "2019-01-08T08:34:10.686227Z"
    }
   },
   "outputs": [],
   "source": [
    "g = sns.FacetGrid(train, col='Survived', height=4, aspect=1.5)\n",
    "g = g.map(sns.distplot, \"Age\")\n",
    "g.fig.subplots_adjust(top=.85)\n",
    "plt.gcf().suptitle('Distplot of Age vs Survived', fontsize=15);"
   ]
  },
  {
   "cell_type": "code",
   "execution_count": null,
   "metadata": {
    "ExecuteTime": {
     "end_time": "2019-01-08T08:34:11.735237Z",
     "start_time": "2019-01-08T08:34:11.089977Z"
    }
   },
   "outputs": [],
   "source": [
    "g = sns.FacetGrid(train, row='Sex', col='Survived', height=3, aspect=2)\n",
    "g = g.map(sns.distplot, \"Age\")\n",
    "g.fig.subplots_adjust(top=.87)\n",
    "plt.gcf().suptitle('Distplot of Age vs Survived vs Sex', fontsize=15);"
   ]
  },
  {
   "cell_type": "code",
   "execution_count": null,
   "metadata": {
    "ExecuteTime": {
     "end_time": "2019-01-08T08:34:12.664560Z",
     "start_time": "2019-01-08T08:34:11.741234Z"
    }
   },
   "outputs": [],
   "source": [
    "g = sns.FacetGrid(train, row='Pclass', col='Survived', height=3, aspect=2)\n",
    "g = g.map(sns.distplot, \"Age\")\n",
    "g.fig.subplots_adjust(top=.91)\n",
    "plt.gcf().suptitle('Distplot of Age vs Survived vs Pclass', fontsize=15);"
   ]
  },
  {
   "cell_type": "code",
   "execution_count": null,
   "metadata": {
    "ExecuteTime": {
     "end_time": "2019-01-08T08:34:12.685545Z",
     "start_time": "2019-01-08T08:34:12.672553Z"
    }
   },
   "outputs": [],
   "source": [
    "train['Age'].describe()"
   ]
  },
  {
   "cell_type": "markdown",
   "metadata": {},
   "source": [
    "## AgeBin"
   ]
  },
  {
   "cell_type": "code",
   "execution_count": null,
   "metadata": {
    "ExecuteTime": {
     "end_time": "2019-01-08T08:34:12.841450Z",
     "start_time": "2019-01-08T08:34:12.694540Z"
    }
   },
   "outputs": [],
   "source": [
    "train['Age'].fillna(train['Age'].median(), inplace=True)\n",
    "train['AgeBin'] = pd.cut(train['Age'], 10)\n",
    "an.get_count_percentage(train, 'AgeBin')"
   ]
  },
  {
   "cell_type": "code",
   "execution_count": null,
   "metadata": {
    "ExecuteTime": {
     "end_time": "2019-01-08T08:34:13.236205Z",
     "start_time": "2019-01-08T08:34:12.848444Z"
    }
   },
   "outputs": [],
   "source": [
    "sns.countplot(x='AgeBin', data=train)\n",
    "plt.gca().set_title('AgeBin count', fontsize=15);"
   ]
  },
  {
   "cell_type": "code",
   "execution_count": null,
   "metadata": {
    "ExecuteTime": {
     "end_time": "2019-01-08T08:34:13.829703Z",
     "start_time": "2019-01-08T08:34:13.244202Z"
    },
    "scrolled": true
   },
   "outputs": [],
   "source": [
    "sns.barplot(x='AgeBin', y='Survived', data=train)\n",
    "plt.gca().set_ylabel('Survival rate')\n",
    "plt.gca().set_title('Survival rate vs AgeBin', fontsize=15);"
   ]
  },
  {
   "cell_type": "markdown",
   "metadata": {},
   "source": [
    "## Fare"
   ]
  },
  {
   "cell_type": "code",
   "execution_count": null,
   "metadata": {
    "ExecuteTime": {
     "end_time": "2019-01-08T08:34:13.847690Z",
     "start_time": "2019-01-08T08:34:13.835699Z"
    }
   },
   "outputs": [],
   "source": [
    "train['Fare'].describe()"
   ]
  },
  {
   "cell_type": "code",
   "execution_count": null,
   "metadata": {
    "ExecuteTime": {
     "end_time": "2019-01-08T08:34:14.401320Z",
     "start_time": "2019-01-08T08:34:13.853688Z"
    }
   },
   "outputs": [],
   "source": [
    "fig, ax = plt.subplots(nrows=1, ncols=2, figsize=[15, 4])\n",
    "sns.distplot(train['Fare'], ax=ax[0])\n",
    "sns.distplot(np.log1p(train['Fare']), ax=ax[1], axlabel='Log1p Fare')\n",
    "fig.suptitle('Distplots of Fare vs Log1p Fare');"
   ]
  },
  {
   "cell_type": "code",
   "execution_count": null,
   "metadata": {
    "ExecuteTime": {
     "end_time": "2019-01-08T08:34:14.842046Z",
     "start_time": "2019-01-08T08:34:14.407314Z"
    }
   },
   "outputs": [],
   "source": [
    "fig, ax = plt.subplots(nrows=2, ncols=1, sharex=True, figsize=[15, 6])\n",
    "sns.stripplot(y='Pclass', x='Fare', data=train, ax=ax[0], orient='h', s=8, edgecolor='white', \n",
    "                linewidth=0.6, jitter=0.3)\n",
    "sns.boxenplot(y='Pclass', x='Fare', data=train, ax=ax[1], orient='h')\n",
    "ax[0].set_xlabel('')\n",
    "ax[0].set_title('Stripplot of Fare vs Pclass', fontsize=15)\n",
    "ax[1].set_title('Boxenplot of Fare vs Pclass', fontsize=15);"
   ]
  },
  {
   "cell_type": "code",
   "execution_count": null,
   "metadata": {
    "ExecuteTime": {
     "end_time": "2019-01-08T08:34:16.009510Z",
     "start_time": "2019-01-08T08:34:14.850044Z"
    }
   },
   "outputs": [],
   "source": [
    "g = sns.catplot(x='SibSp', y='Fare', col='Pclass', data=train, kind='strip', \n",
    "                sharey=False, height=4, aspect=1, s=8, edgecolor='white', \n",
    "                linewidth=0.6, jitter=0.3)\n",
    "g.fig.suptitle('Fare vs SibSp vs Pclass')\n",
    "g.fig.subplots_adjust(top=.85)\n",
    "sns.catplot(x='SibSp', y='Fare', col='Pclass', data=train, kind='boxen', \n",
    "                sharey=False, height=4, aspect=1);"
   ]
  },
  {
   "cell_type": "code",
   "execution_count": null,
   "metadata": {
    "ExecuteTime": {
     "end_time": "2019-01-08T08:34:17.166006Z",
     "start_time": "2019-01-08T08:34:16.017504Z"
    }
   },
   "outputs": [],
   "source": [
    "g = sns.catplot(x='Parch', y='Fare', col='Pclass', data=train, kind='strip', \n",
    "                sharey=False, height=4, aspect=1, s=8, edgecolor='white', \n",
    "                linewidth=0.6, jitter=0.3)\n",
    "g.fig.suptitle('Stripplot of Fare vs Parch vs Pclass')\n",
    "g.fig.subplots_adjust(top=.85)\n",
    "sns.catplot(x='Parch', y='Fare', col='Pclass', data=train, kind='boxen', \n",
    "                sharey=False, height=4, aspect=1);"
   ]
  },
  {
   "cell_type": "markdown",
   "metadata": {},
   "source": [
    "## Correlation"
   ]
  },
  {
   "cell_type": "code",
   "execution_count": null,
   "metadata": {
    "ExecuteTime": {
     "end_time": "2019-01-08T08:34:17.274211Z",
     "start_time": "2019-01-08T08:34:17.174039Z"
    }
   },
   "outputs": [],
   "source": [
    "an.association_test(train.loc[:, ['Pclass', 'Sex', 'Age', 'SibSp',\n",
    "                                   'Parch', 'FamilySize', 'Fare', 'Embarked']], train['Survived'])"
   ]
  },
  {
   "cell_type": "code",
   "execution_count": null,
   "metadata": {
    "ExecuteTime": {
     "end_time": "2019-01-08T08:34:17.313186Z",
     "start_time": "2019-01-08T08:34:17.281206Z"
    }
   },
   "outputs": [],
   "source": [
    "train['SexNum'] = train['Sex'].replace({'male': 1, 'female': 0}).astype(int)\n",
    "train['SexNum'].head()"
   ]
  },
  {
   "cell_type": "code",
   "execution_count": null,
   "metadata": {
    "ExecuteTime": {
     "end_time": "2019-01-08T08:34:18.381916Z",
     "start_time": "2019-01-08T08:34:17.321180Z"
    }
   },
   "outputs": [],
   "source": [
    "CORR_COLS = ['Survived', 'Pclass', 'Fare', 'SibSp', 'Parch', 'FamilySize', 'Age', 'SexNum']\n",
    "fig, ax = plt.subplots(nrows=1, ncols=2, figsize=(15, 6))\n",
    "sns.heatmap(train[CORR_COLS].corr(method='pearson'), \n",
    "            ax=ax[0], cbar=True, annot=True, square=True, fmt='.2f', annot_kws={'size': 12})\n",
    "sns.heatmap(train[CORR_COLS].corr(method='spearman'), \n",
    "            ax=ax[1], cbar=True, annot=True, square=True, fmt='.2f', annot_kws={'size': 12})\n",
    "ax[0].set_title(\"Pearson's r\", fontsize=15)\n",
    "ax[1].set_title(\"Spearman's rho\", fontsize=15)\n",
    "fig.suptitle(\"Correlation matrices\", fontsize=15)\n",
    "fig.subplots_adjust(top=.92);"
   ]
  },
  {
   "cell_type": "markdown",
   "metadata": {},
   "source": [
    "## Save as .py"
   ]
  },
  {
   "cell_type": "code",
   "execution_count": 130,
   "metadata": {
    "ExecuteTime": {
     "end_time": "2019-01-08T08:35:06.174077Z",
     "start_time": "2019-01-08T08:35:03.714285Z"
    }
   },
   "outputs": [
    {
     "name": "stderr",
     "output_type": "stream",
     "text": [
      "[NbConvertApp] Converting notebook 01_exploratory_data_analysis.ipynb to script\n",
      "[NbConvertApp] Writing 11769 bytes to 01_exploratory_data_analysis.py\n"
     ]
    }
   ],
   "source": [
    "!jupyter nbconvert --to script 01_exploratory_data_analysis.ipynb"
   ]
  }
 ],
 "metadata": {
  "kernelspec": {
   "display_name": "Python 3",
   "language": "python",
   "name": "python3"
  },
  "language_info": {
   "codemirror_mode": {
    "name": "ipython",
    "version": 3
   },
   "file_extension": ".py",
   "mimetype": "text/x-python",
   "name": "python",
   "nbconvert_exporter": "python",
   "pygments_lexer": "ipython3",
   "version": "3.6.5"
  },
  "toc": {
   "base_numbering": 1,
   "nav_menu": {},
   "number_sections": true,
   "sideBar": true,
   "skip_h1_title": true,
   "title_cell": "Table of Contents",
   "title_sidebar": "Contents",
   "toc_cell": false,
   "toc_position": {
    "height": "calc(100% - 180px)",
    "left": "10px",
    "top": "150px",
    "width": "184px"
   },
   "toc_section_display": true,
   "toc_window_display": true
  }
 },
 "nbformat": 4,
 "nbformat_minor": 2
}
