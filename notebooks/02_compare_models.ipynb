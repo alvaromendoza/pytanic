{
 "cells": [
  {
   "cell_type": "markdown",
   "metadata": {},
   "source": [
    "# Compare cross-validated models"
   ]
  },
  {
   "cell_type": "markdown",
   "metadata": {},
   "source": [
    "## IPython magics"
   ]
  },
  {
   "cell_type": "code",
   "execution_count": null,
   "metadata": {
    "ExecuteTime": {
     "end_time": "2019-01-14T14:54:11.464019Z",
     "start_time": "2019-01-14T14:54:11.448027Z"
    }
   },
   "outputs": [],
   "source": [
    "%matplotlib inline"
   ]
  },
  {
   "cell_type": "markdown",
   "metadata": {},
   "source": [
    "## Imports"
   ]
  },
  {
   "cell_type": "code",
   "execution_count": null,
   "metadata": {
    "ExecuteTime": {
     "end_time": "2019-01-14T14:54:11.586573Z",
     "start_time": "2019-01-14T14:54:11.468016Z"
    }
   },
   "outputs": [],
   "source": [
    "import pandas as pd\n",
    "import matplotlib.pyplot as plt\n",
    "import seaborn as sns; sns.set()\n",
    "import titanic.tools as tools\n",
    "\n",
    "from pprint import pprint\n",
    "from titanic.modelling import ExtendedClassifier\n",
    "\n",
    "pd.options.display.max_columns = None\n",
    "pd.options.display.max_rows = None\n",
    "pd.options.display.max_colwidth = -1\n",
    "\n",
    "plt.rcParams['figure.figsize'] = [15, 4.5]"
   ]
  },
  {
   "cell_type": "markdown",
   "metadata": {},
   "source": [
    "## Deserialize models"
   ]
  },
  {
   "cell_type": "code",
   "execution_count": null,
   "metadata": {
    "ExecuteTime": {
     "end_time": "2019-01-14T14:54:11.677333Z",
     "start_time": "2019-01-14T14:54:11.591570Z"
    }
   },
   "outputs": [],
   "source": [
    "models = dict()\n",
    "models['LogisticRegression'] = ExtendedClassifier.deserialize(r'../models/logreg.pickle')\n",
    "models['RandomForestClassifier'] = ExtendedClassifier.deserialize(r'../models/forest.pickle')\n",
    "models['SVC'] = ExtendedClassifier.deserialize(r'../models/svc.pickle')\n",
    "models"
   ]
  },
  {
   "cell_type": "markdown",
   "metadata": {},
   "source": [
    "## Compare models"
   ]
  },
  {
   "cell_type": "code",
   "execution_count": null,
   "metadata": {
    "ExecuteTime": {
     "end_time": "2019-01-14T14:54:11.741361Z",
     "start_time": "2019-01-14T14:54:11.682328Z"
    }
   },
   "outputs": [],
   "source": [
    "scores = {name: model.cvs_stamp['score'] for name, model in models.items()}\n",
    "scores"
   ]
  },
  {
   "cell_type": "code",
   "execution_count": null,
   "metadata": {
    "ExecuteTime": {
     "end_time": "2019-01-14T14:54:11.831347Z",
     "start_time": "2019-01-14T14:54:11.747358Z"
    }
   },
   "outputs": [],
   "source": [
    "list(scores.keys())"
   ]
  },
  {
   "cell_type": "code",
   "execution_count": null,
   "metadata": {
    "ExecuteTime": {
     "end_time": "2019-01-14T14:54:12.072225Z",
     "start_time": "2019-01-14T14:54:11.835342Z"
    }
   },
   "outputs": [],
   "source": [
    "fig = plt.figure(figsize=[15, 5])\n",
    "ax = fig.add_subplot(111)\n",
    "sns.barplot(x=list(scores.keys()), y=list(scores.values()), orient='v', ax=ax)\n",
    "ax.set_ylim(bottom=0.8)\n",
    "ax.set_title('Cross-validated accuracy of candidate models', fontsize=15)\n",
    "for p in ax.patches:\n",
    "    ax.annotate(\"%.5f\" % p.get_height(), (p.get_x() + p.get_width() / 2., p.get_height()),\n",
    "                ha='center', va='center', fontsize=13, color='k', alpha=0.8,\n",
    "                xytext=(0, 20), textcoords='offset points')\n",
    "plt.show()"
   ]
  },
  {
   "cell_type": "markdown",
   "metadata": {},
   "source": [
    "## Save as .py"
   ]
  },
  {
   "cell_type": "code",
   "execution_count": null,
   "metadata": {
    "ExecuteTime": {
     "end_time": "2019-01-14T14:55:01.818709Z",
     "start_time": "2019-01-14T14:54:59.643804Z"
    }
   },
   "outputs": [],
   "source": [
    "!jupyter nbconvert --to script 02_compare_models.ipynb"
   ]
  }
 ],
 "metadata": {
  "kernelspec": {
   "display_name": "Python 3",
   "language": "python",
   "name": "python3"
  },
  "language_info": {
   "codemirror_mode": {
    "name": "ipython",
    "version": 3
   },
   "file_extension": ".py",
   "mimetype": "text/x-python",
   "name": "python",
   "nbconvert_exporter": "python",
   "pygments_lexer": "ipython3",
   "version": "3.6.5"
  },
  "toc": {
   "base_numbering": 1,
   "nav_menu": {},
   "number_sections": true,
   "sideBar": true,
   "skip_h1_title": true,
   "title_cell": "Table of Contents",
   "title_sidebar": "Contents",
   "toc_cell": false,
   "toc_position": {},
   "toc_section_display": true,
   "toc_window_display": true
  }
 },
 "nbformat": 4,
 "nbformat_minor": 2
}
