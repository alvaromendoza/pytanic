{
 "cells": [
  {
   "cell_type": "markdown",
   "metadata": {},
   "source": [
    "# Compare cross-validated models"
   ]
  },
  {
   "cell_type": "markdown",
   "metadata": {},
   "source": [
    "## IPython magics"
   ]
  },
  {
   "cell_type": "code",
   "execution_count": 1,
   "metadata": {
    "ExecuteTime": {
     "end_time": "2019-01-25T14:37:29.737372Z",
     "start_time": "2019-01-25T14:37:29.318072Z"
    }
   },
   "outputs": [],
   "source": [
    "%matplotlib inline"
   ]
  },
  {
   "cell_type": "markdown",
   "metadata": {},
   "source": [
    "## Imports"
   ]
  },
  {
   "cell_type": "code",
   "execution_count": 2,
   "metadata": {
    "ExecuteTime": {
     "end_time": "2019-01-25T14:37:32.987522Z",
     "start_time": "2019-01-25T14:37:29.737372Z"
    }
   },
   "outputs": [],
   "source": [
    "import pandas as pd\n",
    "import matplotlib.pyplot as plt\n",
    "import seaborn as sns; sns.set()\n",
    "import titanic.tools as tools\n",
    "\n",
    "from pprint import pprint\n",
    "from titanic.modelling import ExtendedClassifier\n",
    "\n",
    "pd.options.display.max_columns = None\n",
    "pd.options.display.max_rows = None\n",
    "pd.options.display.max_colwidth = -1\n",
    "\n",
    "plt.rcParams['figure.figsize'] = [15, 4.5]"
   ]
  },
  {
   "cell_type": "markdown",
   "metadata": {},
   "source": [
    "## Deserialize models"
   ]
  },
  {
   "cell_type": "code",
   "execution_count": 3,
   "metadata": {
    "ExecuteTime": {
     "end_time": "2019-01-25T14:37:33.169764Z",
     "start_time": "2019-01-25T14:37:32.990025Z"
    }
   },
   "outputs": [
    {
     "data": {
      "text/plain": [
       "{'LogisticRegression': ExtendedClassifier(clf=Pipeline(memory=None,\n",
       "      steps=[('simpledataframeimputer', SimpleDataFrameImputer(median_cols=['Age', 'Fare'], mode_cols=['Embarked'])), ('dataframedummifier', DataFrameDummifier(get_dummies_kws={})), ('logisticregression', LogisticRegression(C=0.75, class_weight=None, dual=False, fit_intercep...y='l2', random_state=None, solver='liblinear',\n",
       "           tol=0.0001, verbose=0, warm_start=False))])),\n",
       " 'RandomForestClassifier': ExtendedClassifier(clf=Pipeline(memory=None,\n",
       "      steps=[('categoricaltostring', CategoricalToString()), ('simpledataframeimputer', SimpleDataFrameImputer(median_cols=['Age', 'Fare'], mode_cols=['Embarked'])), ('ordinalencoder', OrdinalEncoder(cols=['Title', 'Deck', 'Embarked'], drop_invariant=False,\n",
       "         handle_unknown='impute', impute_missing=...bs=None,\n",
       "             oob_score=False, random_state=87216, verbose=0,\n",
       "             warm_start=False))])),\n",
       " 'SVC': ExtendedClassifier(clf=Pipeline(memory=None,\n",
       "      steps=[('simpledataframeimputer', SimpleDataFrameImputer(median_cols=['Age', 'Fare'], mode_cols=['Embarked'])), ('dataframedummifier', DataFrameDummifier(get_dummies_kws={})), ('svc', SVC(C=0.1, cache_size=200, class_weight=None, coef0=0.0,\n",
       "   decision_function_shape='ovr', degree=3, gamma='auto_deprecated',\n",
       "   kernel='linear', max_iter=-1, probability=False, random_state=None,\n",
       "   shrinking=True, tol=0.001, verbose=False))])),\n",
       " 'VotingClassifier': ExtendedClassifier(clf=VotingClassifier(estimators=[('logreg', Pipeline(memory=None,\n",
       "      steps=[('simpledataframeimputer', SimpleDataFrameImputer(median_cols=['Age', 'Fare'], mode_cols=['Embarked'])), ('dataframedummifier', DataFrameDummifier(get_dummies_kws={})), ('logisticregression', LogisticRegression(C=1.0, class_weight=None, dual=F... max_iter=-1, probability=False, random_state=None,\n",
       "   shrinking=True, tol=0.001, verbose=False))]))],\n",
       "          flatten_transform=None, n_jobs=None, voting='hard', weights=None))}"
      ]
     },
     "execution_count": 3,
     "metadata": {},
     "output_type": "execute_result"
    }
   ],
   "source": [
    "models = dict()\n",
    "models['LogisticRegression'] = ExtendedClassifier.deserialize(r'../models/logreg.pickle')\n",
    "models['RandomForestClassifier'] = ExtendedClassifier.deserialize(r'../models/forest.pickle')\n",
    "models['SVC'] = ExtendedClassifier.deserialize(r'../models/svc.pickle')\n",
    "models['VotingClassifier'] = ExtendedClassifier.deserialize(r'../models/voting.pickle')\n",
    "models"
   ]
  },
  {
   "cell_type": "markdown",
   "metadata": {},
   "source": [
    "## Compare models"
   ]
  },
  {
   "cell_type": "code",
   "execution_count": 4,
   "metadata": {
    "ExecuteTime": {
     "end_time": "2019-01-25T14:37:33.185752Z",
     "start_time": "2019-01-25T14:37:33.172760Z"
    }
   },
   "outputs": [
    {
     "data": {
      "text/plain": [
       "{'LogisticRegression': 0.8215303496327915,\n",
       " 'RandomForestClassifier': 0.8293766869625259,\n",
       " 'SVC': 0.822635113928818,\n",
       " 'VotingClassifier': 0.8282468143870441}"
      ]
     },
     "execution_count": 4,
     "metadata": {},
     "output_type": "execute_result"
    }
   ],
   "source": [
    "scores = {name: model.profile['cv_score'] for name, model in models.items()}\n",
    "scores"
   ]
  },
  {
   "cell_type": "code",
   "execution_count": 5,
   "metadata": {
    "ExecuteTime": {
     "end_time": "2019-01-25T14:37:33.262768Z",
     "start_time": "2019-01-25T14:37:33.189752Z"
    }
   },
   "outputs": [
    {
     "data": {
      "text/plain": [
       "['LogisticRegression', 'RandomForestClassifier', 'SVC', 'VotingClassifier']"
      ]
     },
     "execution_count": 5,
     "metadata": {},
     "output_type": "execute_result"
    }
   ],
   "source": [
    "list(scores.keys())"
   ]
  },
  {
   "cell_type": "code",
   "execution_count": 6,
   "metadata": {
    "ExecuteTime": {
     "end_time": "2019-01-25T14:37:33.551781Z",
     "start_time": "2019-01-25T14:37:33.266764Z"
    }
   },
   "outputs": [
    {
     "data": {
      "image/png": "[encoded data removed]",
      "text/plain": [
       "<Figure size 1080x360 with 1 Axes>"
      ]
     },
     "metadata": {},
     "output_type": "display_data"
    }
   ],
   "source": [
    "fig = plt.figure(figsize=[15, 5])\n",
    "ax = fig.add_subplot(111)\n",
    "sns.barplot(x=list(scores.keys()), y=list(scores.values()), orient='v', ax=ax)\n",
    "ax.set_ylim(bottom=0.8)\n",
    "ax.set_title('Cross-validated accuracy of candidate models', fontsize=15)\n",
    "for p in ax.patches:\n",
    "    ax.annotate(\"%.5f\" % p.get_height(), (p.get_x() + p.get_width() / 2., p.get_height()),\n",
    "                ha='center', va='center', fontsize=13, color='k', alpha=0.8,\n",
    "                xytext=(0, 20), textcoords='offset points')\n",
    "plt.show()"
   ]
  },
  {
   "cell_type": "markdown",
   "metadata": {},
   "source": [
    "## Save as .py"
   ]
  },
  {
   "cell_type": "code",
   "execution_count": 7,
   "metadata": {
    "ExecuteTime": {
     "end_time": "2019-01-25T14:37:33.562775Z",
     "start_time": "2019-01-25T14:37:33.554779Z"
    }
   },
   "outputs": [
    {
     "data": {
      "application/javascript": [
       "IPython.notebook.save_notebook()"
      ],
      "text/plain": [
       "<IPython.core.display.Javascript object>"
      ]
     },
     "metadata": {},
     "output_type": "display_data"
    }
   ],
   "source": [
    "%%javascript\n",
    "IPython.notebook.save_notebook()"
   ]
  },
  {
   "cell_type": "code",
   "execution_count": 8,
   "metadata": {
    "ExecuteTime": {
     "end_time": "2019-01-25T14:37:35.921476Z",
     "start_time": "2019-01-25T14:37:33.566774Z"
    }
   },
   "outputs": [
    {
     "name": "stderr",
     "output_type": "stream",
     "text": [
      "[NbConvertApp] Converting notebook 02_compare_models.ipynb to script\n",
      "[NbConvertApp] Writing 1803 bytes to 02_compare_models.py\n"
     ]
    }
   ],
   "source": [
    "# sdfgjlsdfglksdjg\n",
    "!jupyter nbconvert --to script 02_compare_models.ipynb"
   ]
  }
 ],
 "metadata": {
  "kernelspec": {
   "display_name": "Python 3",
   "language": "python",
   "name": "python3"
  },
  "language_info": {
   "codemirror_mode": {
    "name": "ipython",
    "version": 3
   },
   "file_extension": ".py",
   "mimetype": "text/x-python",
   "name": "python",
   "nbconvert_exporter": "python",
   "pygments_lexer": "ipython3",
   "version": "3.6.5"
  },
  "toc": {
   "base_numbering": 1,
   "nav_menu": {},
   "number_sections": true,
   "sideBar": true,
   "skip_h1_title": true,
   "title_cell": "Table of Contents",
   "title_sidebar": "Contents",
   "toc_cell": false,
   "toc_position": {},
   "toc_section_display": true,
   "toc_window_display": true
  }
 },
 "nbformat": 4,
 "nbformat_minor": 2
}
